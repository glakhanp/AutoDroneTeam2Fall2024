{
 "cells": [
  {
   "cell_type": "code",
   "execution_count": 26,
   "id": "e03bc3c0-b201-4bf7-a17a-3097201ae078",
   "metadata": {},
   "outputs": [
    {
     "ename": "ImportError",
     "evalue": "cannot import name 'Document' from 'haystack' (C:\\Users\\evanz\\AppData\\Local\\Packages\\PythonSoftwareFoundation.Python.3.11_qbz5n2kfra8p0\\LocalCache\\local-packages\\Python311\\site-packages\\haystack\\__init__.py)",
     "output_type": "error",
     "traceback": [
      "\u001b[1;31m---------------------------------------------------------------------------\u001b[0m",
      "\u001b[1;31mImportError\u001b[0m                               Traceback (most recent call last)",
      "Cell \u001b[1;32mIn[26], line 1\u001b[0m\n\u001b[1;32m----> 1\u001b[0m \u001b[38;5;28;01mfrom\u001b[39;00m \u001b[38;5;21;01mhaystack\u001b[39;00m \u001b[38;5;28;01mimport\u001b[39;00m Document, Pipeline\n\u001b[0;32m      2\u001b[0m \u001b[38;5;28;01mfrom\u001b[39;00m \u001b[38;5;21;01mhaystack\u001b[39;00m\u001b[38;5;21;01m.\u001b[39;00m\u001b[38;5;21;01mcomponents\u001b[39;00m\u001b[38;5;21;01m.\u001b[39;00m\u001b[38;5;21;01mbuilders\u001b[39;00m\u001b[38;5;21;01m.\u001b[39;00m\u001b[38;5;21;01mprompt_builder\u001b[39;00m \u001b[38;5;28;01mimport\u001b[39;00m PromptBuilder\n\u001b[0;32m      3\u001b[0m \u001b[38;5;28;01mfrom\u001b[39;00m \u001b[38;5;21;01mhaystack\u001b[39;00m\u001b[38;5;21;01m.\u001b[39;00m\u001b[38;5;21;01mcomponents\u001b[39;00m\u001b[38;5;21;01m.\u001b[39;00m\u001b[38;5;21;01mretrievers\u001b[39;00m\u001b[38;5;21;01m.\u001b[39;00m\u001b[38;5;21;01min_memory\u001b[39;00m \u001b[38;5;28;01mimport\u001b[39;00m InMemoryBM25Retriever\n",
      "\u001b[1;31mImportError\u001b[0m: cannot import name 'Document' from 'haystack' (C:\\Users\\evanz\\AppData\\Local\\Packages\\PythonSoftwareFoundation.Python.3.11_qbz5n2kfra8p0\\LocalCache\\local-packages\\Python311\\site-packages\\haystack\\__init__.py)"
     ]
    }
   ],
   "source": [
    "from haystack import Document, Pipeline\n",
    "from haystack.components.builders.prompt_builder import PromptBuilder\n",
    "from haystack.components.retrievers.in_memory import InMemoryBM25Retriever\n",
    "from haystack.document_stores.in_memory import InMemoryDocumentStore\n",
    "\n",
    "from haystack_integrations.components.generators.ollama import OllamaGenerator\n",
    "\n",
    "from rouge_scoring import gist_eval\n",
    "import math\n",
    "import numpy as np\n",
    "import pandas as pd"
   ]
  },
  {
   "cell_type": "code",
   "execution_count": 106,
   "id": "0fb55005-56f2-4a9a-afcf-60baaf78296b",
   "metadata": {},
   "outputs": [],
   "source": [
    "arr = []\n",
    "for x in range(1, 4):\n",
    "    with open(\"/Users/gaurishlakhanpal/Downloads/HW\" + str(x) + \"_README.md\", \"r\") as f:\n",
    "        content = f.read()\n",
    "    arr.append(Document(content = content, meta = {'title': \"Homework \" + str(x), 'type': \"hw\"}))\n",
    "    f.close()"
   ]
  },
  {
   "cell_type": "code",
   "execution_count": 107,
   "id": "69bfb635-1c7a-4a1a-96c6-f13d19ebc01f",
   "metadata": {},
   "outputs": [
    {
     "data": {
      "text/plain": [
       "Document(id=4774bffd4da0c1d090d299b9fe22ba45dd9857d66e4e0bf1d36696837898abfc, content: '# Homework 3: Histograms and Distributions\n",
       "\n",
       "This homework asks you to write and use the functions we...', meta: {'title': 'Homework 3', 'type': 'hw'})"
      ]
     },
     "execution_count": 107,
     "metadata": {},
     "output_type": "execute_result"
    }
   ],
   "source": [
    "arr[2]"
   ]
  },
  {
   "cell_type": "code",
   "execution_count": 108,
   "id": "8ba5cdf3-4dd3-4b5a-ba8f-b837f30db6cb",
   "metadata": {},
   "outputs": [],
   "source": [
    "arr.append(Document(content=\"Note: <p>Hi all!</p><p></p><p>All projects submitted to Gradescope have now been graded, feedback published, and grades posted to Brightspace. If your grade on Brightspace for the project is a zero it may be for the following reasons:</p><ol><li>You, or your partner, did not fill out the survey in the project Readme indicating the members of your team</li><li>You, or your partner, filled out the survey incorrectly</li><li>You, or your partner, did not submit your project writeup to Gradescope and did not contact an instructor to get it uploaded during the grading period</li></ol><p>IMPORTANT: We are allowing for a 24-hour period in which students can make regrade requests regarding the project. consequently, we will not accept any regrade request made after 11:59 PM tomorrow (12/18). Please check your grade on Brightspace and make the appropriate requests to the course email IMMEDIATELY. </p><p></p><p>Have a great winter break everyone!</p><p></p><p>Best,</p><p></p><p>Brooks</p>\", \n",
    "                    meta={'folders': ['project'], 'title': 'Project Grades Released! [IMPORTANT, 24-HOUR REGRADE REQUEST PERIOD]', 'type': \"hw\"}))\n",
    "arr.append(Document(content=\"Note: <p>Hi all!</p><p></p><p>As you are preparing your project write-up for submission, please take some time to evaluate your write-up/code using the general rubric posted below. We will be instructing the UTAs to evaluate your write-ups according to these five categories and a write-up that is acceptable for all criteria will be given full points. Good luck with finals and have a great rest of the semester!</p><p></p><p>Best,</p><p></p><p>Brooks</p><p></p><p><a href='/redirect/s3?bucket=uploads&amp;prefix=paste%2Fktit8n4gsw8346%2F14403a48ac263ab5666762e37ea9a6fa9010a0b04e0d9704d30c56e13230701e%2FECE2075_ProjectRubric.pdf' target='_blank' rel='noopener noreferrer'>ECE2075_ProjectRubric.pdf</a></p>\", meta={'folders': ['project'], 'title': 'General Rubric for Project Write-up', 'type': \"hw\"}))\n",
    "arr.append(Document(content=\"Note: <p>Dear All,</p><p><br />Some of you have inquired about the cutoffs between different letter grades. While our policy is not to release the exact cutoffs, we will make the following worst-case guarantees on the mapping from your final number grade (after weighting the assignments, exams, and project) to letter grade:</p><p style='padding-left:40px'>A-range: &gt;90<br />B-range: &gt;80<br />C-range: &gt;70<br />D-range: &gt;60</p><p>Note that these are worst case, i.e., your actual letter grade will be greater than or equal to that given by these ranges. Different cutoffs might be used to benefit you depending on the grade distribution and other various factors.</p><p><br />Hope it helps!</p>\", meta={'folders': ['logistics'], 'title': 'Regarding Final Grade Cutoffs', 'type': \"hw\"}))\n",
    "arr.append(Document(content=\"Note: <script type='text/javascript'>PA.load('/dashboard/project_partners', null, function(data){ $('#' + 'questionText').html(data);});</script> #pin\", meta={'folders': [], 'title': 'Search for Teammates!', 'type': \"hw\"}))"
   ]
  },
  {
   "cell_type": "code",
   "execution_count": 109,
   "id": "57726ee7-53d5-4712-b4cc-048f4fa55565",
   "metadata": {},
   "outputs": [
    {
     "data": {
      "text/plain": [
       "7"
      ]
     },
     "execution_count": 109,
     "metadata": {},
     "output_type": "execute_result"
    }
   ],
   "source": [
    "document_store = InMemoryDocumentStore()\n",
    "document_store.write_documents(arr)"
   ]
  },
  {
   "cell_type": "code",
   "execution_count": 110,
   "id": "bbf5175f-e431-4ba2-b357-1172a8bf2c29",
   "metadata": {},
   "outputs": [],
   "source": [
    "template = \"\"\"\n",
    "Given only the following information, answer the question.\n",
    "Ignore your own knowledge.\n",
    "\n",
    "Context:\n",
    "{% for document in documents %}\n",
    "    {{ document.content }}\n",
    "{% endfor %}\n",
    "\n",
    "Question: {{ query }}?\n",
    "\"\"\""
   ]
  },
  {
   "cell_type": "code",
   "execution_count": 1,
   "id": "57a056a8-c917-4434-a411-3f5e192a6d75",
   "metadata": {},
   "outputs": [
    {
     "ename": "NameError",
     "evalue": "name 'Pipeline' is not defined",
     "output_type": "error",
     "traceback": [
      "\u001b[1;31m---------------------------------------------------------------------------\u001b[0m",
      "\u001b[1;31mNameError\u001b[0m                                 Traceback (most recent call last)",
      "Cell \u001b[1;32mIn[1], line 1\u001b[0m\n\u001b[1;32m----> 1\u001b[0m pipe \u001b[38;5;241m=\u001b[39m \u001b[43mPipeline\u001b[49m()\n\u001b[0;32m      3\u001b[0m pipe\u001b[38;5;241m.\u001b[39madd_component(\u001b[38;5;124m\"\u001b[39m\u001b[38;5;124mretriever\u001b[39m\u001b[38;5;124m\"\u001b[39m, InMemoryBM25Retriever(document_store\u001b[38;5;241m=\u001b[39mdocument_store))\n\u001b[0;32m      4\u001b[0m pipe\u001b[38;5;241m.\u001b[39madd_component(\u001b[38;5;124m\"\u001b[39m\u001b[38;5;124mprompt_builder\u001b[39m\u001b[38;5;124m\"\u001b[39m, PromptBuilder(template\u001b[38;5;241m=\u001b[39mtemplate))\n",
      "\u001b[1;31mNameError\u001b[0m: name 'Pipeline' is not defined"
     ]
    }
   ],
   "source": [
    "pipe = Pipeline()\n",
    "\n",
    "pipe.add_component(\"retriever\", InMemoryBM25Retriever(document_store=document_store))\n",
    "pipe.add_component(\"prompt_builder\", PromptBuilder(template=template))\n",
    "pipe.add_component(\"llm\", OllamaGenerator(model=\"llama3.1\", url=\"http://localhost:11434\"))\n",
    "pipe.connect(\"retriever\", \"prompt_builder.documents\")\n",
    "pipe.connect(\"prompt_builder\", \"llm\")\n",
    "\n",
    "tr_data = pd.read_csv('train_pairs.csv')\n",
    "pair_scores = []\n",
    "\n",
    "for query, answer in tr_data[\"questions\"], tr_data[\"answers\"]:\n",
    "    response = pipe.run({\"prompt_builder\": {\"query\": query}, \"retriever\": {\"query\": query}})\n",
    "    scores = [gist_eval(query, answer)]\n",
    "    avg_score = np.mean(scores)\n",
    "    pair_scores.append(avg_score)\n",
    "\n",
    "aggregate_score = np.mean(avg_score)\n",
    "\n",
    "#print(response[\"llm\"][\"replies\"][0])"
   ]
  },
  {
   "cell_type": "code",
   "execution_count": 7,
   "id": "b17849c1-44fb-45ce-95fd-05ee05a91bf1",
   "metadata": {},
   "outputs": [
    {
     "name": "stdout",
     "output_type": "stream",
     "text": [
      "Enter Piazza email:  glakhanp@purdue.edu\n",
      "Enter Piazza password:  JeromePowell123$\n"
     ]
    },
    {
     "ename": "RequestError",
     "evalue": "Could not retrieve your feed.\nResponse: {\n  \"result\": null,\n  \"error_codes\": [],\n  \"error\": \"No permission\",\n  \"aid\": \"m22f3qqph9812c\"\n}",
     "output_type": "error",
     "traceback": [
      "\u001b[0;31m---------------------------------------------------------------------------\u001b[0m",
      "\u001b[0;31mRequestError\u001b[0m                              Traceback (most recent call last)",
      "Cell \u001b[0;32mIn[7], line 72\u001b[0m\n\u001b[1;32m     70\u001b[0m course_id \u001b[38;5;241m=\u001b[39m \u001b[38;5;124m\"\u001b[39m\u001b[38;5;124ml70jo8vm9bk6mu\u001b[39m\u001b[38;5;124m\"\u001b[39m\n\u001b[1;32m     71\u001b[0m course_name \u001b[38;5;241m=\u001b[39m \u001b[38;5;124m\"\u001b[39m\u001b[38;5;124m20875_F22\u001b[39m\u001b[38;5;124m\"\u001b[39m   \u001b[38;5;66;03m# just for text file name\u001b[39;00m\n\u001b[0;32m---> 72\u001b[0m \u001b[43mscrape_course\u001b[49m\u001b[43m(\u001b[49m\u001b[43mcourse_id\u001b[49m\u001b[43m,\u001b[49m\u001b[43m \u001b[49m\u001b[43mcourse_name\u001b[49m\u001b[43m)\u001b[49m\n",
      "Cell \u001b[0;32mIn[7], line 19\u001b[0m, in \u001b[0;36mscrape_course\u001b[0;34m(course_id, course_name)\u001b[0m\n\u001b[1;32m     15\u001b[0m     file\u001b[38;5;241m.\u001b[39mwrite(\u001b[38;5;124m\"\u001b[39m\u001b[38;5;124mdocument_store = InMemoryDocumentStore()\u001b[39m\u001b[38;5;130;01m\\n\u001b[39;00m\u001b[38;5;124mdocument_store.write_documents(\u001b[39m\u001b[38;5;130;01m\\n\u001b[39;00m\u001b[38;5;130;01m\\t\u001b[39;00m\u001b[38;5;124m[\u001b[39m\u001b[38;5;130;01m\\n\u001b[39;00m\u001b[38;5;124m\"\u001b[39m)\n\u001b[1;32m     17\u001b[0m cnt \u001b[38;5;241m=\u001b[39m \u001b[38;5;241m0\u001b[39m\n\u001b[0;32m---> 19\u001b[0m \u001b[43m\u001b[49m\u001b[38;5;28;43;01mfor\u001b[39;49;00m\u001b[43m \u001b[49m\u001b[43mpost\u001b[49m\u001b[43m \u001b[49m\u001b[38;5;129;43;01min\u001b[39;49;00m\u001b[43m \u001b[49m\u001b[43mcourse\u001b[49m\u001b[38;5;241;43m.\u001b[39;49m\u001b[43miter_all_posts\u001b[49m\u001b[43m(\u001b[49m\u001b[43m)\u001b[49m\u001b[43m:\u001b[49m\n\u001b[1;32m     20\u001b[0m \u001b[43m    \u001b[49m\u001b[43mfolders\u001b[49m\u001b[43m \u001b[49m\u001b[38;5;241;43m=\u001b[39;49m\u001b[43m \u001b[49m\u001b[43mpost\u001b[49m\u001b[43m[\u001b[49m\u001b[38;5;124;43m'\u001b[39;49m\u001b[38;5;124;43mfolders\u001b[39;49m\u001b[38;5;124;43m'\u001b[39;49m\u001b[43m]\u001b[49m\n\u001b[1;32m     21\u001b[0m \u001b[43m    \u001b[49m\u001b[43mtimestamp\u001b[49m\u001b[43m \u001b[49m\u001b[38;5;241;43m=\u001b[39;49m\u001b[43m \u001b[49m\u001b[43mpost\u001b[49m\u001b[43m[\u001b[49m\u001b[38;5;124;43m'\u001b[39;49m\u001b[38;5;124;43mcreated\u001b[39;49m\u001b[38;5;124;43m'\u001b[39;49m\u001b[43m]\u001b[49m\n",
      "File \u001b[0;32m~/opt/anaconda3/envs/rag/lib/python3.12/site-packages/piazza_api/network.py:106\u001b[0m, in \u001b[0;36mNetwork.iter_all_posts\u001b[0;34m(self, limit, sleep)\u001b[0m\n\u001b[1;32m     85\u001b[0m \u001b[38;5;28;01mdef\u001b[39;00m \u001b[38;5;21miter_all_posts\u001b[39m(\u001b[38;5;28mself\u001b[39m, limit\u001b[38;5;241m=\u001b[39m\u001b[38;5;28;01mNone\u001b[39;00m, sleep\u001b[38;5;241m=\u001b[39m\u001b[38;5;241m0\u001b[39m):\n\u001b[1;32m     86\u001b[0m \u001b[38;5;250m    \u001b[39m\u001b[38;5;124;03m\"\"\"Get all posts visible to the current user\u001b[39;00m\n\u001b[1;32m     87\u001b[0m \n\u001b[1;32m     88\u001b[0m \u001b[38;5;124;03m    This grabs you current feed and ids of all posts from it; each post\u001b[39;00m\n\u001b[0;32m   (...)\u001b[0m\n\u001b[1;32m    104\u001b[0m \u001b[38;5;124;03m    :rtype: generator\u001b[39;00m\n\u001b[1;32m    105\u001b[0m \u001b[38;5;124;03m    \"\"\"\u001b[39;00m\n\u001b[0;32m--> 106\u001b[0m     feed \u001b[38;5;241m=\u001b[39m \u001b[38;5;28;43mself\u001b[39;49m\u001b[38;5;241;43m.\u001b[39;49m\u001b[43mget_feed\u001b[49m\u001b[43m(\u001b[49m\u001b[43mlimit\u001b[49m\u001b[38;5;241;43m=\u001b[39;49m\u001b[38;5;241;43m999999\u001b[39;49m\u001b[43m,\u001b[49m\u001b[43m \u001b[49m\u001b[43moffset\u001b[49m\u001b[38;5;241;43m=\u001b[39;49m\u001b[38;5;241;43m0\u001b[39;49m\u001b[43m)\u001b[49m\n\u001b[1;32m    107\u001b[0m     cids \u001b[38;5;241m=\u001b[39m [post[\u001b[38;5;124m'\u001b[39m\u001b[38;5;124mid\u001b[39m\u001b[38;5;124m'\u001b[39m] \u001b[38;5;28;01mfor\u001b[39;00m post \u001b[38;5;129;01min\u001b[39;00m feed[\u001b[38;5;124m\"\u001b[39m\u001b[38;5;124mfeed\u001b[39m\u001b[38;5;124m\"\u001b[39m]]\n\u001b[1;32m    108\u001b[0m     \u001b[38;5;28;01mif\u001b[39;00m limit \u001b[38;5;129;01mis\u001b[39;00m \u001b[38;5;129;01mnot\u001b[39;00m \u001b[38;5;28;01mNone\u001b[39;00m:\n",
      "File \u001b[0;32m~/opt/anaconda3/envs/rag/lib/python3.12/site-packages/piazza_api/network.py:508\u001b[0m, in \u001b[0;36mNetwork.get_feed\u001b[0;34m(self, limit, offset)\u001b[0m\n\u001b[1;32m    491\u001b[0m \u001b[38;5;28;01mdef\u001b[39;00m \u001b[38;5;21mget_feed\u001b[39m(\u001b[38;5;28mself\u001b[39m, limit\u001b[38;5;241m=\u001b[39m\u001b[38;5;241m100\u001b[39m, offset\u001b[38;5;241m=\u001b[39m\u001b[38;5;241m0\u001b[39m):\n\u001b[1;32m    492\u001b[0m \u001b[38;5;250m    \u001b[39m\u001b[38;5;124;03m\"\"\"Get your feed for this network\u001b[39;00m\n\u001b[1;32m    493\u001b[0m \n\u001b[1;32m    494\u001b[0m \u001b[38;5;124;03m    Pagination for this can be achieved by using the ``limit`` and\u001b[39;00m\n\u001b[0;32m   (...)\u001b[0m\n\u001b[1;32m    506\u001b[0m \u001b[38;5;124;03m        than the full text.\u001b[39;00m\n\u001b[1;32m    507\u001b[0m \u001b[38;5;124;03m    \"\"\"\u001b[39;00m\n\u001b[0;32m--> 508\u001b[0m     \u001b[38;5;28;01mreturn\u001b[39;00m \u001b[38;5;28;43mself\u001b[39;49m\u001b[38;5;241;43m.\u001b[39;49m\u001b[43m_rpc\u001b[49m\u001b[38;5;241;43m.\u001b[39;49m\u001b[43mget_my_feed\u001b[49m\u001b[43m(\u001b[49m\u001b[43mlimit\u001b[49m\u001b[38;5;241;43m=\u001b[39;49m\u001b[43mlimit\u001b[49m\u001b[43m,\u001b[49m\u001b[43m \u001b[49m\u001b[43moffset\u001b[49m\u001b[38;5;241;43m=\u001b[39;49m\u001b[43moffset\u001b[49m\u001b[43m)\u001b[49m\n",
      "File \u001b[0;32m~/opt/anaconda3/envs/rag/lib/python3.12/site-packages/piazza_api/rpc.py:406\u001b[0m, in \u001b[0;36mPiazzaRPC.get_my_feed\u001b[0;34m(self, limit, offset, sort, nid)\u001b[0m\n\u001b[1;32m    383\u001b[0m \u001b[38;5;250m\u001b[39m\u001b[38;5;124;03m\"\"\"Get my feed\u001b[39;00m\n\u001b[1;32m    384\u001b[0m \n\u001b[1;32m    385\u001b[0m \u001b[38;5;124;03m:type limit: int\u001b[39;00m\n\u001b[0;32m   (...)\u001b[0m\n\u001b[1;32m    395\u001b[0m \u001b[38;5;124;03m    `network_id` entered when created the class\u001b[39;00m\n\u001b[1;32m    396\u001b[0m \u001b[38;5;124;03m\"\"\"\u001b[39;00m\n\u001b[1;32m    397\u001b[0m r \u001b[38;5;241m=\u001b[39m \u001b[38;5;28mself\u001b[39m\u001b[38;5;241m.\u001b[39mrequest(\n\u001b[1;32m    398\u001b[0m     method\u001b[38;5;241m=\u001b[39m\u001b[38;5;124m\"\u001b[39m\u001b[38;5;124mnetwork.get_my_feed\u001b[39m\u001b[38;5;124m\"\u001b[39m,\n\u001b[1;32m    399\u001b[0m     nid\u001b[38;5;241m=\u001b[39mnid,\n\u001b[0;32m   (...)\u001b[0m\n\u001b[1;32m    404\u001b[0m     )\n\u001b[1;32m    405\u001b[0m )\n\u001b[0;32m--> 406\u001b[0m \u001b[38;5;28;01mreturn\u001b[39;00m \u001b[38;5;28;43mself\u001b[39;49m\u001b[38;5;241;43m.\u001b[39;49m\u001b[43m_handle_error\u001b[49m\u001b[43m(\u001b[49m\u001b[43mr\u001b[49m\u001b[43m,\u001b[49m\u001b[43m \u001b[49m\u001b[38;5;124;43m\"\u001b[39;49m\u001b[38;5;124;43mCould not retrieve your feed.\u001b[39;49m\u001b[38;5;124;43m\"\u001b[39;49m\u001b[43m)\u001b[49m\n",
      "File \u001b[0;32m~/opt/anaconda3/envs/rag/lib/python3.12/site-packages/piazza_api/rpc.py:576\u001b[0m, in \u001b[0;36mPiazzaRPC._handle_error\u001b[0;34m(self, result, err_msg)\u001b[0m\n\u001b[1;32m    565\u001b[0m \u001b[38;5;250m\u001b[39m\u001b[38;5;124;03m\"\"\"Check result for error\u001b[39;00m\n\u001b[1;32m    566\u001b[0m \n\u001b[1;32m    567\u001b[0m \u001b[38;5;124;03m:type result: dict\u001b[39;00m\n\u001b[0;32m   (...)\u001b[0m\n\u001b[1;32m    573\u001b[0m \u001b[38;5;124;03m:raises RequestError: If result has error\u001b[39;00m\n\u001b[1;32m    574\u001b[0m \u001b[38;5;124;03m\"\"\"\u001b[39;00m\n\u001b[1;32m    575\u001b[0m \u001b[38;5;28;01mif\u001b[39;00m result\u001b[38;5;241m.\u001b[39mget(\u001b[38;5;124mu\u001b[39m\u001b[38;5;124m'\u001b[39m\u001b[38;5;124merror\u001b[39m\u001b[38;5;124m'\u001b[39m):\n\u001b[0;32m--> 576\u001b[0m     \u001b[38;5;28;01mraise\u001b[39;00m RequestError(\u001b[38;5;124m\"\u001b[39m\u001b[38;5;132;01m{}\u001b[39;00m\u001b[38;5;130;01m\\n\u001b[39;00m\u001b[38;5;124mResponse: \u001b[39m\u001b[38;5;132;01m{}\u001b[39;00m\u001b[38;5;124m\"\u001b[39m\u001b[38;5;241m.\u001b[39mformat(\n\u001b[1;32m    577\u001b[0m         err_msg,\n\u001b[1;32m    578\u001b[0m         json\u001b[38;5;241m.\u001b[39mdumps(result, indent\u001b[38;5;241m=\u001b[39m\u001b[38;5;241m2\u001b[39m)\n\u001b[1;32m    579\u001b[0m     ))\n\u001b[1;32m    580\u001b[0m \u001b[38;5;28;01melse\u001b[39;00m:\n\u001b[1;32m    581\u001b[0m     \u001b[38;5;28;01mreturn\u001b[39;00m result\u001b[38;5;241m.\u001b[39mget(\u001b[38;5;124mu\u001b[39m\u001b[38;5;124m'\u001b[39m\u001b[38;5;124mresult\u001b[39m\u001b[38;5;124m'\u001b[39m)\n",
      "\u001b[0;31mRequestError\u001b[0m: Could not retrieve your feed.\nResponse: {\n  \"result\": null,\n  \"error_codes\": [],\n  \"error\": \"No permission\",\n  \"aid\": \"m22f3qqph9812c\"\n}"
     ]
    }
   ],
   "source": [
    "import os\n",
    "import time\n",
    "from piazza_api import Piazza\n",
    "\n",
    "def scrape_course(course_id, course_name):\n",
    "    p = Piazza()\n",
    "\n",
    "    email = input(\"Enter Piazza email: \")\n",
    "    password = input(\"Enter Piazza password: \")\n",
    "    p.user_login(email=email, password=password)\n",
    "\n",
    "    course = p.network(course_id)\n",
    "\n",
    "    with open(str(course_name)+\"_Piazza_Data.txt\", \"w\") as file:\n",
    "        file.write(\"document_store = InMemoryDocumentStore()\\ndocument_store.write_documents(\\n\\t[\\n\")\n",
    "\n",
    "    cnt = 0\n",
    "\n",
    "    for post in course.iter_all_posts():\n",
    "        folders = post['folders']\n",
    "        timestamp = post['created']\n",
    "        title = post['history'][0]['subject']\n",
    "        unformatted_content = post['history'][0]['content']\n",
    "        content = unformatted_content.replace(\"\\n\", \"\").replace(\"\\\"\", \"'\")\n",
    "        tags = post['tags']\n",
    "        likes = len(post['tag_good'])\n",
    "        views = post['unique_views']\n",
    "\n",
    "        is_anonymous = post['history'][0]['anon']\n",
    "        if is_anonymous == \"no\":\n",
    "            user = post['history'][0]['uid']\n",
    "        else:\n",
    "            user = \"\"\n",
    "\n",
    "        metadata = {\n",
    "            \"folders\": folders,\n",
    "            \"title\": title,\n",
    "            \"timestamp\": timestamp,\n",
    "            \"user\": user,\n",
    "            \"tags\": tags,\n",
    "            \"likes\": likes,\n",
    "            \"views\": views\n",
    "        }\n",
    "        \n",
    "        is_note = post['type']\n",
    "        if is_note == \"question\":\n",
    "            reply = \"\"\n",
    "            for r in post['children']:\n",
    "                if (r['type'] == 'i_answer') or (r['type'] == 's_answer' and not reply):\n",
    "                    unformatted_reply = r['history'][0]['content']\n",
    "                    reply = unformatted_reply.replace(\"\\n\", \"\").replace(\"\\\"\", \"'\")\n",
    "            if reply:\n",
    "                document_representation = f\"\"\"\\t\\tDocument(content=\"Question: {content} Answer: {reply}\", meta={metadata}),\\n\"\"\"\n",
    "            else:\n",
    "                continue    # do not use unanswered questions\n",
    "        else:\n",
    "            document_representation = f\"\"\"\\t\\tDocument(content=\"Note: {content}\", meta={metadata}),\\n\"\"\"\n",
    "\n",
    "        with open(str(course_name)+\"_Piazza_Data.txt\", \"a\") as file:\n",
    "            file.write(document_representation)\n",
    "\n",
    "        cnt += 1\n",
    "\n",
    "        if cnt == 50:   # rate limit seems to be near 60/min\n",
    "            time.sleep(60)\n",
    "            cnt = 0\n",
    "\n",
    "\n",
    "if __name__ == \"__main__\":\n",
    "    course_id = \"l70jo8vm9bk6mu\"\n",
    "    course_name = \"20875_F22\"   # just for text file name\n",
    "    scrape_course(course_id, course_name)"
   ]
  },
  {
   "cell_type": "code",
   "execution_count": null,
   "id": "532d7eb0-fe37-41aa-8fb5-d724a63c0cbc",
   "metadata": {},
   "outputs": [],
   "source": []
  }
 ],
 "metadata": {
  "kernelspec": {
   "display_name": "Python 3",
   "language": "python",
   "name": "python3"
  },
  "language_info": {
   "codemirror_mode": {
    "name": "ipython",
    "version": 3
   },
   "file_extension": ".py",
   "mimetype": "text/x-python",
   "name": "python",
   "nbconvert_exporter": "python",
   "pygments_lexer": "ipython3",
   "version": "3.11.9"
  }
 },
 "nbformat": 4,
 "nbformat_minor": 5
}
